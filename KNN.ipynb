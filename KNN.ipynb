{
 "cells": [
  {
   "cell_type": "markdown",
   "metadata": {},
   "source": [
    "# KNN"
   ]
  },
  {
   "cell_type": "code",
   "execution_count": 6,
   "metadata": {},
   "outputs": [],
   "source": [
    "%matplotlib inline\n",
    "import seaborn as sns\n",
    "sns.set()\n"
   ]
  },
  {
   "cell_type": "code",
   "execution_count": 8,
   "metadata": {},
   "outputs": [
    {
     "data": {
      "text/plain": [
       "<Figure size 2016x864 with 0 Axes>"
      ]
     },
     "metadata": {},
     "output_type": "display_data"
    },
    {
     "data": {
      "application/vnd.jupyter.widget-view+json": {
       "model_id": "f946f1196e774c78ae4cdcef7e1a72f0",
       "version_major": 2,
       "version_minor": 0
      },
      "text/plain": [
       "interactive(children=(IntSlider(value=1, description='neighbors', max=36, min=1, step=2), Output()), _dom_clas…"
      ]
     },
     "metadata": {},
     "output_type": "display_data"
    }
   ],
   "source": [
    "#loading data\n",
    "\n",
    "from sklearn.datasets import load_iris\n",
    "\n",
    "data = load_iris()\n",
    "\n",
    "X = data['data']\n",
    "y = data['target']\n",
    "\n",
    "from sklearn.preprocessing import StandardScaler\n",
    "from sklearn.neighbors import KNeighborsClassifier\n",
    "from ipywidgets import IntSlider, interact\n",
    "import matplotlib.pyplot as plt\n",
    "import numpy as np\n",
    "import matplotlib\n",
    "matplotlib.rcParams['figure.dpi'] = 144\n",
    "\n",
    "\n",
    "#scaling data\n",
    "scaler = StandardScaler()\n",
    "Xt = scaler.fit_transform(X)\n",
    "\n",
    "def plot_neighbors(n_neighbors=1):\n",
    "    knn = KNeighborsClassifier(n_neighbors=n_neighbors)\n",
    "    knn.fit(Xt[:,2:],y)\n",
    "    \n",
    "    X1, X2 = np.meshgrid(np.linspace(-2,2), np.linspace(-2,2))\n",
    "    y_pred = knn.predict(np.hstack((X1.reshape(-1,1), X2.reshape(-1,1))))\n",
    "    plt.contourf(X1, X2, y_pred.reshape(50,50)/2, cmap='viridis', alpha=0.25, vmin=0, vmax=0.95)\n",
    "    \n",
    "    plt.scatter(*Xt[:,2:].T, c=y, cmap='viridis');\n",
    "\n",
    "plt.figure(figsize=[14,6])    \n",
    "interact(plot_neighbors, n_neighbors = IntSlider(min=1, max=36, step=2, description = 'neighbors'));\n"
   ]
  },
  {
   "cell_type": "code",
   "execution_count": null,
   "metadata": {},
   "outputs": [],
   "source": []
  }
 ],
 "metadata": {
  "kernelspec": {
   "display_name": "Python 3",
   "language": "python",
   "name": "python3"
  },
  "language_info": {
   "codemirror_mode": {
    "name": "ipython",
    "version": 3
   },
   "file_extension": ".py",
   "mimetype": "text/x-python",
   "name": "python",
   "nbconvert_exporter": "python",
   "pygments_lexer": "ipython3",
   "version": "3.7.4"
  }
 },
 "nbformat": 4,
 "nbformat_minor": 2
}
